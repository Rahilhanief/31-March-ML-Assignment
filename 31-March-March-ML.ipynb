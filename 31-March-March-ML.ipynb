{
 "cells": [
  {
   "cell_type": "code",
   "execution_count": 1,
   "id": "aae6ca4b-06cd-48cf-84f5-6cbad4ab1ccb",
   "metadata": {},
   "outputs": [
    {
     "data": {
      "text/plain": [
       "'The different stages of the web development process.\\n1.1. Analysis.\\n1.2. Design.\\n1.3. Development.\\n1.4. Testing & review.\\n1.5. Deployment.\\n1.6. Maintenance.\\n1.7. Prominent technologies used in the web development proces.'"
      ]
     },
     "execution_count": 1,
     "metadata": {},
     "output_type": "execute_result"
    }
   ],
   "source": [
    "## Q No. 1 :\n",
    "'''The different stages of the web development process.\n",
    "1.1. Analysis.\n",
    "1.2. Design.\n",
    "1.3. Development.\n",
    "1.4. Testing & review.\n",
    "1.5. Deployment.\n",
    "1.6. Maintenance.\n",
    "1.7. Prominent technologies used in the web development proces.'''"
   ]
  },
  {
   "cell_type": "code",
   "execution_count": 3,
   "id": "bbff44fb-cf96-43a8-b728-c5acebf50de8",
   "metadata": {},
   "outputs": [
    {
     "data": {
      "text/plain": [
       "\"Cloud hosting is more quickly scalable than traditional hosting. If an application or website receives \\nmore or less traffic, the cloud servers scale up and down automatically. \\nWith cloud hosting, there's no need to manually add or remove server space as there is in shared hosting. \""
      ]
     },
     "execution_count": 3,
     "metadata": {},
     "output_type": "execute_result"
    }
   ],
   "source": [
    "##Q No. 2 :\n",
    "'''Cloud hosting is more quickly scalable than traditional hosting. If an application or website receives \n",
    "more or less traffic, the cloud servers scale up and down automatically. \n",
    "With cloud hosting, there's no need to manually add or remove server space as there is in shared hosting. '''"
   ]
  },
  {
   "cell_type": "code",
   "execution_count": 4,
   "id": "a6726fa1-d490-488e-ac99-8daecdd0458c",
   "metadata": {},
   "outputs": [
    {
     "data": {
      "text/plain": [
       "'Certifications & Standards.\\nTechnologies & Service Roadmap.\\nData Security, Data Governance and Business policies.\\nService Dependencies & Partnerships.\\nContracts, Commercials & SLAs.\\nReliability & Performance.'"
      ]
     },
     "execution_count": 4,
     "metadata": {},
     "output_type": "execute_result"
    }
   ],
   "source": [
    "## Q No. 3 :\n",
    "'''Certifications & Standards.\n",
    "Technologies & Service Roadmap.\n",
    "Data Security, Data Governance and Business policies.\n",
    "Service Dependencies & Partnerships.\n",
    "Contracts, Commercials & SLAs.\n",
    "Reliability & Performance.'''"
   ]
  },
  {
   "cell_type": "code",
   "execution_count": 5,
   "id": "5b4aed4a-8b6c-4be3-81ae-4fd613b14ae4",
   "metadata": {},
   "outputs": [
    {
     "data": {
      "text/plain": [
       "'Set Appropriate Responsive Breakpoints.\\nStart with a Fluid Grid.\\nTake touchscreens into consideration.\\nDefine Typography.\\nUse a pre-designed theme or layout to save time.\\nTest Responsiveness on Real Devices.'"
      ]
     },
     "execution_count": 5,
     "metadata": {},
     "output_type": "execute_result"
    }
   ],
   "source": [
    "## Q No. 4 :\n",
    "'''Set Appropriate Responsive Breakpoints.\n",
    "Start with a Fluid Grid.\n",
    "Take touchscreens into consideration.\n",
    "Define Typography.\n",
    "Use a pre-designed theme or layout to save time.\n",
    "Test Responsiveness on Real Devices.'''"
   ]
  },
  {
   "cell_type": "code",
   "execution_count": 6,
   "id": "1b62e14c-ce2e-46fc-a52e-edc4eccd1b5e",
   "metadata": {},
   "outputs": [
    {
     "data": {
      "text/plain": [
       "'\\nimport pandas as pd\\nimport numpy as np\\nimport seaborn as sns\\nimport matplotlib.pyplot as plt\\n%matplotlib inline \\n\\nfrom sklearn.model_selection import train_test_split\\nfrom sklearn.metrics import accuracy_score, classification_report\\nfrom sklearn.ensemble import RandomForestRegressor.\\n'"
      ]
     },
     "execution_count": 6,
     "metadata": {},
     "output_type": "execute_result"
    }
   ],
   "source": [
    "## Q No. 5 :\n",
    "\"\"\"\n",
    "import pandas as pd\n",
    "import numpy as np\n",
    "import seaborn as sns\n",
    "import matplotlib.pyplot as plt\n",
    "%matplotlib inline \n",
    "\n",
    "from sklearn.model_selection import train_test_split\n",
    "from sklearn.metrics import accuracy_score, classification_report\n",
    "from sklearn.ensemble import RandomForestRegressor.\n",
    "\"\"\""
   ]
  }
 ],
 "metadata": {
  "kernelspec": {
   "display_name": "Python 3 (ipykernel)",
   "language": "python",
   "name": "python3"
  },
  "language_info": {
   "codemirror_mode": {
    "name": "ipython",
    "version": 3
   },
   "file_extension": ".py",
   "mimetype": "text/x-python",
   "name": "python",
   "nbconvert_exporter": "python",
   "pygments_lexer": "ipython3",
   "version": "3.10.8"
  }
 },
 "nbformat": 4,
 "nbformat_minor": 5
}
